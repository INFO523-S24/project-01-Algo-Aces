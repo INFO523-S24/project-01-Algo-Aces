{
  "cells": [
    {
      "cell_type": "raw",
      "metadata": {},
      "source": [
        "---\n",
        "title: Algo Aces Project Proposal\n",
        "subtitle: Proposal\n",
        "format: html\n",
        "editor: visual\n",
        "---"
      ],
      "id": "08cd4e1e"
    },
    {
      "cell_type": "code",
      "metadata": {
        "message": false
      },
      "source": [
        "#| label: load-pkgs\n",
        "import numpy as np\n",
        "import pandas as pd\n",
        "import requests"
      ],
      "id": "load-pkgs",
      "execution_count": null,
      "outputs": []
    },
    {
      "cell_type": "markdown",
      "metadata": {},
      "source": [
        "## Dataset\n"
      ],
      "id": "b3e2c7fa"
    },
    {
      "cell_type": "code",
      "metadata": {
        "message": false
      },
      "source": [
        "#| label: load-dataset\n",
        "df = pd.read_csv(\"https://raw.githubusercontent.com/rfordatascience/tidytuesday/master/data/2018/2018-09-04/fastfood_calories.csv\")\n",
        "df.head()\n"
      ],
      "id": "load-dataset",
      "execution_count": null,
      "outputs": []
    },
    {
      "cell_type": "markdown",
      "metadata": {},
      "source": [
        "### Dataset Description:\n",
        "The \"Fast Food Calories\" dataset comprises nutritional information for various food items offered by eight distinct fast-food outlets. Each outlet's menu is detailed, encompassing items such as burgers, fries, beverages, and salads. The dataset includes essential nutritional metrics like calories, fat content, protein, and carbohydrates, allowing for in-depth analysis and comparison of the health implications of different menu choices. \n",
        "\n",
        "Provenance:\n",
        "The dataset's source could be a variety of sources, including research institutions,\n",
        "open data repositories, or compiled data sets from various sources.\n",
        "\n",
        "Dimensions:\n",
        "The dataset likely contains multiple columns representing different attributes of fast food items, \n",
        "such as name, restaurant, category, calorie count, fat content, protein content, \n",
        "carbohydrate content, etc. The number of rows corresponds to the number of individual fast food items for each restaurant in the dataset.\n",
        "\n",
        "#### **Why this Dataset:**\n",
        "\n",
        "Relevance:\n",
        "Fast food consumption is a significant aspect of modern dietary habits, making this dataset relevant for understanding nutritional patterns and trends.\n",
        "\n",
        "-> It makes it possible to see how the allocation of calorie counts within various fast food item categories is visualized, providing information about the items' primary tendencies and variability.\n",
        "-> Making educated dietary decisions is further facilitated by the ability to quickly identify variations in calorie distributions by comparing half violin plots across various fast-food categories.\n",
        "-> Comparing different fast-food establishments or menu items can be rendered simpler with this sort of visualization portrayal of calorie data, which helps consumers make healthier decisions.\n",
        "-> Researchers and policymakers can contribute to efforts to promote healthy eating habits in society and increase public knowledge of nutritional value by utilizing fast food calorie data in data visualization initiatives. \n",
        "\n",
        "Data Mining Opportunities:\n",
        "The dataset provides ample opportunities for data mining tasks such as exploratory data analysis.\n",
        "\n",
        "\n",
        "### Questions\n",
        "\n",
        "Q1) How many calories areconsumed on average per visit to each restaurant or outlet?\n",
        "Q2) How do different food item categories vary in protien-fat ratio and do they meet up to the standards of the health metric?\n",
        "\n",
        "\n",
        "### Analysis plan\n",
        "\n",
        "Q1:\n",
        "We will use the function `groupby.describe( )` which includes mean, mode, median, min, and max, to construct a table with summary statistics for each restaurant item in terms of calories.We are going to sum up all the calories for all the items in a restaurant and divide it with no of items gives avg calories gained by a person so we are going to use a half violin plot to showcase this result.\n",
        "\n",
        "Variables used:\n",
        "\n",
        "`restaurant`: Name of fast food joint or outlet\n",
        "`item`: Food item being examined\n",
        "`total_fat`: The total amount of fat in the food item\n",
        "`calories`: The number of calories in the food item\n",
        "`cholesterol`: The amount of cholesterol in the food item\n",
        "\n",
        "\n",
        "Q2:\n",
        "For question 2, the relevant columns will be protein, and item. To ensure when proteins and fats, we shall convert them from to calories. Using the protein-fat ratio, we can create a health metric that allows us to if a food item is healthy or harmful. We would like to visualise this using a half violin plot for better understanding of the metrics.\n",
        "\n",
        "Variables used:\n",
        "\n",
        "`restaurant`: Name of fast food joint or outlet\n",
        "`item`: Food item being examined\n",
        "`total_fat`: The total amount of fat in the food item\n",
        "`protein`:The amount of protein"
      ],
      "id": "c281d103"
    }
  ],
  "metadata": {
    "kernelspec": {
      "display_name": "Python 3",
      "language": "python",
      "name": "python3"
    }
  },
  "nbformat": 4,
  "nbformat_minor": 5
}